{
 "cells": [
  {
   "cell_type": "markdown",
   "metadata": {},
   "source": [
    "## Atividade 1 - Regressão Linear "
   ]
  },
  {
   "cell_type": "code",
   "execution_count": 1,
   "metadata": {},
   "outputs": [],
   "source": [
    "import pandas as pd\n",
    "import numpy as np\n",
    "import matplotlib.pyplot as plt"
   ]
  },
  {
   "cell_type": "code",
   "execution_count": 15,
   "metadata": {},
   "outputs": [],
   "source": [
    "class RegressaoLinearSimples():\n",
    "    \n",
    "    def __init__(self):\n",
    "        pass\n",
    "    \n",
    "    def fit(self, X, y):\n",
    "        \n",
    "        self.X = X\n",
    "        self.y = y\n",
    "        \n",
    "        x_mean = np.mean(self.X)\n",
    "        y_mean = np.mean(self.y)\n",
    "        \n",
    "        self.b1 = np.sum((self.X - x_mean)*(self.y - y_mean))\n",
    "        self.b1 = self.b1/np.sum((self.X - x_mean)**2)\n",
    "        \n",
    "        self.b0 = y_mean - (self.b1*x_mean)\n",
    "        \n",
    "    def predict(self, _X):\n",
    "        \n",
    "        self._y = self.b0 + self.b1*X\n",
    "        return self._y\n",
    "        #_y = np.zeros(_X.shape[0])\n",
    "        \n",
    "        #for i,x in enumerate(X):\n",
    "        #    _y[i] = self.b0 + self.b1*x\n",
    "            \n",
    "        #return _y"
   ]
  },
  {
   "cell_type": "code",
   "execution_count": 16,
   "metadata": {},
   "outputs": [],
   "source": [
    "class RegressaoLinearMultipla():\n",
    "    \n",
    "    def __init__(self):\n",
    "        pass\n",
    "    \n",
    "    def fit(self, X, y):\n",
    "        \n",
    "        bias = np.ones((X.shape[0],1))\n",
    "        self.X = np.concatenate( (bias,X),axis=1)\n",
    "        self.y = y\n",
    "        \n",
    "        self.b_ = self.X.T.dot( self.X )\n",
    "        self.b_ = np.linalg.inv(self.b_)\n",
    "        self.b_ = self.b_.dot(self.X.T)\n",
    "        self.b_ = self.b_.dot(self.y)\n",
    "        \n",
    "    def predict(self, _X):\n",
    "        \n",
    "        bias = np.ones((_X.shape[0],1))\n",
    "        _X = np.concatenate( (bias,_X),axis=1)\n",
    "        \n",
    "        _y = np.zeros(_X.shape[0])\n",
    "        \n",
    "        for i,x in enumerate(_X):\n",
    "            _y[i] = np.sum(self.b_ * x)\n",
    "            \n",
    "        return _y"
   ]
  },
  {
   "cell_type": "code",
   "execution_count": 36,
   "metadata": {},
   "outputs": [],
   "source": [
    "def RSS( y_true, y_predict ):\n",
    "    return np.sum( np.power((y_true-y_predict),2) )\n",
    "\n",
    "def RSE( y_true, y_predict ):  \n",
    "    n = y_true.shape[0]\n",
    "    rss = RSS(y_true, y_predict)\n",
    "    return np.power(( rss/(n-2) ),0.5)\n",
    "\n",
    "def R2( y_true, y_predict ):\n",
    "    y_mean = np.mean(y_true)\n",
    "    tss = np.sum( np.power((y_true-y_mean),2) )\n",
    "    rss = RSS( y_true, y_predict )\n",
    "    return 1 - ( rss/tss )\n",
    "\n",
    "def MAE( y_true, y_predict ):\n",
    "    n = y_true.shape[0]\n",
    "    return np.sum( np.absolute(y_true-y_predict) ) / n"
   ]
  },
  {
   "cell_type": "code",
   "execution_count": 37,
   "metadata": {},
   "outputs": [],
   "source": [
    "data = pd.read_csv(\"Data/Advertising.csv\",usecols=[\"TV\",\"radio\",\"newspaper\",\"sales\"])"
   ]
  },
  {
   "cell_type": "code",
   "execution_count": 38,
   "metadata": {},
   "outputs": [
    {
     "name": "stdout",
     "output_type": "stream",
     "text": [
      "b0:  7.032593549127698\n",
      "b1:  0.047536640433019736\n",
      "\n",
      "RSS:  2102.5305831313512\n",
      "RSE:  3.2586563686504624\n",
      "R2:  0.611875050850071\n",
      "MAE:  2.5498060389274864\n"
     ]
    },
    {
     "data": {
      "image/png": "[encoded data removed]",
      "text/plain": [
       "<Figure size 432x288 with 1 Axes>"
      ]
     },
     "metadata": {
      "needs_background": "light"
     },
     "output_type": "display_data"
    }
   ],
   "source": [
    "# Questão 01\n",
    "#      i- Tv and Sales\n",
    "\n",
    "X = data[\"TV\"]\n",
    "y = data[\"sales\"]\n",
    "\n",
    "rls = RegressaoLinearSimples()\n",
    "rls.fit(X,y)\n",
    "\n",
    "y_ = rls.predict(X)\n",
    "\n",
    "plt.scatter(X, y)\n",
    "plt.plot(X,y_, c='r')\n",
    "plt.grid()\n",
    "\n",
    "print(\"b0: \", rls.b0)\n",
    "print(\"b1: \", rls.b1)\n",
    "print()\n",
    "print(\"RSS: \",RSS(y,y_))\n",
    "print(\"RSE: \",RSE(y,y_))\n",
    "print(\"R2: \",R2(y,y_))\n",
    "print(\"MAE: \",MAE(y,y_))"
   ]
  },
  {
   "cell_type": "code",
   "execution_count": 39,
   "metadata": {},
   "outputs": [
    {
     "name": "stdout",
     "output_type": "stream",
     "text": [
      "b0:  9.311638095158282\n",
      "b1:  0.20249578339243965\n",
      "\n",
      "RSS:  3618.479549025088\n",
      "RSE:  4.27494435490106\n",
      "R2:  0.33203245544529525\n",
      "MAE:  3.3202187976420667\n"
     ]
    },
    {
     "data": {
      "image/png": "[encoded data removed]",
      "text/plain": [
       "<Figure size 432x288 with 1 Axes>"
      ]
     },
     "metadata": {
      "needs_background": "light"
     },
     "output_type": "display_data"
    }
   ],
   "source": [
    "#      i- Radio and Sales\n",
    "\n",
    "X = data[\"radio\"]\n",
    "y = data[\"sales\"]\n",
    "\n",
    "rls = RegressaoLinearSimples()\n",
    "rls.fit(X,y)\n",
    "\n",
    "y_ = rls.predict(X)\n",
    "\n",
    "plt.scatter(X, y)\n",
    "plt.plot(X,y_, c='r')\n",
    "plt.grid()\n",
    "\n",
    "print(\"b0: \", rls.b0)\n",
    "print(\"b1: \", rls.b1)\n",
    "print()\n",
    "print(\"RSS: \",RSS(y,y_))\n",
    "print(\"RSE: \",RSE(y,y_))\n",
    "print(\"R2: \",R2(y,y_))\n",
    "print(\"MAE: \",MAE(y,y_))"
   ]
  },
  {
   "cell_type": "code",
   "execution_count": 40,
   "metadata": {},
   "outputs": [
    {
     "name": "stdout",
     "output_type": "stream",
     "text": [
      "b0:  12.351407069278164\n",
      "b1:  0.05469309847227334\n",
      "\n",
      "RSS:  5134.804544111939\n",
      "RSE:  5.092480366520192\n",
      "R2:  0.05212044544430516\n",
      "MAE:  4.1465597438384885\n"
     ]
    },
    {
     "data": {
      "image/png": "[encoded data removed]",
      "text/plain": [
       "<Figure size 432x288 with 1 Axes>"
      ]
     },
     "metadata": {
      "needs_background": "light"
     },
     "output_type": "display_data"
    }
   ],
   "source": [
    "#      i- Newspaper and Sales\n",
    "\n",
    "X = data[\"newspaper\"]\n",
    "y = data[\"sales\"]\n",
    "\n",
    "rls = RegressaoLinearSimples()\n",
    "rls.fit(X,y)\n",
    "\n",
    "y_ = rls.predict(X)\n",
    "\n",
    "plt.scatter(X, y)\n",
    "plt.plot(X,y_, c='r')\n",
    "plt.grid()\n",
    "\n",
    "print(\"b0: \", rls.b0)\n",
    "print(\"b1: \", rls.b1)\n",
    "print()\n",
    "print(\"RSS: \",RSS(y,y_))\n",
    "print(\"RSE: \",RSE(y,y_))\n",
    "print(\"R2: \",R2(y,y_))\n",
    "print(\"MAE: \",MAE(y,y_))"
   ]
  },
  {
   "cell_type": "code",
   "execution_count": 41,
   "metadata": {},
   "outputs": [
    {
     "name": "stdout",
     "output_type": "stream",
     "text": [
      "b 0 :  2.9388893694594476\n",
      "b 1 :  0.04576464545539749\n",
      "b 2 :  0.18853001691820429\n",
      "b 3 :  -0.0010374930424764811\n",
      "\n",
      "RSS:  556.8252629021872\n",
      "RSE:  1.6769760888385674\n",
      "R2:  0.8972106381789522\n",
      "MAE:  1.2520112296870658\n"
     ]
    }
   ],
   "source": [
    "# Questão 02\n",
    "\n",
    "X = data.iloc[:,:-1].values\n",
    "y = data[\"sales\"].values\n",
    "\n",
    "rlm = RegressaoLinearMultipla()\n",
    "rlm.fit(X,y)\n",
    "\n",
    "y_ = rlm.predict(X)\n",
    "\n",
    "\n",
    "for i,b in enumerate(rlm.b_):\n",
    "    print(\"b\",i,\": \",b)\n",
    "\n",
    "print()\n",
    "print(\"RSS: \",RSS(y,y_))\n",
    "print(\"RSE: \",RSE(y,y_))\n",
    "print(\"R2: \",R2(y,y_))\n",
    "print(\"MAE: \",MAE(y,y_))\n"
   ]
  },
  {
   "cell_type": "code",
   "execution_count": null,
   "metadata": {},
   "outputs": [],
   "source": [
    "# @ == np.dot()"
   ]
  }
 ],
 "metadata": {
  "kernelspec": {
   "display_name": "Python 3",
   "language": "python",
   "name": "python3"
  },
  "language_info": {
   "codemirror_mode": {
    "name": "ipython",
    "version": 3
   },
   "file_extension": ".py",
   "mimetype": "text/x-python",
   "name": "python",
   "nbconvert_exporter": "python",
   "pygments_lexer": "ipython3",
   "version": "3.7.4"
  }
 },
 "nbformat": 4,
 "nbformat_minor": 2
}
