{
 "cells": [
  {
   "cell_type": "code",
   "execution_count": 7,
   "metadata": {},
   "outputs": [],
   "source": [
    "import tensorflow as tf\n",
    "import numpy as np"
   ]
  },
  {
   "cell_type": "code",
   "execution_count": null,
   "metadata": {},
   "outputs": [],
   "source": [
    "# Implementação da Regressão Linear Simples com o Método Analítico (MA)\n",
    "\n",
    "class RegressaoLinearSimplesMA( object ):\n",
    "    \n",
    "    def __init__(self):\n",
    "        print('Hello from MA')\n",
    "        pass\n",
    "\n",
    "        \n",
    "# Implementação da Regressão Linear Simples com o Método do Gradiente Descendente (GD)\n",
    "\n",
    "class RegressaoLinearSimplesGD( object ):\n",
    "    \n",
    "    def __init__(self):\n",
    "        print('Hello from GD')\n",
    "        pass"
   ]
  }
 ],
 "metadata": {
  "kernelspec": {
   "display_name": "Python 3",
   "language": "python",
   "name": "python3"
  },
  "language_info": {
   "codemirror_mode": {
    "name": "ipython",
    "version": 3
   },
   "file_extension": ".py",
   "mimetype": "text/x-python",
   "name": "python",
   "nbconvert_exporter": "python",
   "pygments_lexer": "ipython3",
   "version": "3.7.6"
  }
 },
 "nbformat": 4,
 "nbformat_minor": 4
}
