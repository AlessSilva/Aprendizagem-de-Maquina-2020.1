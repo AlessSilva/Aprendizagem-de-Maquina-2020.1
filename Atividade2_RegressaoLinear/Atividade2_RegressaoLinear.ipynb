{
 "cells": [
  {
   "cell_type": "markdown",
   "metadata": {},
   "source": [
    "# Atividade 2 - Regressão Linear\n",
    "### Nome: Alessandro Souza Silva, Matrícula: 399941"
   ]
  },
  {
   "cell_type": "code",
   "execution_count": 1,
   "metadata": {},
   "outputs": [],
   "source": [
    "import numpy as np\n",
    "import matplotlib.pyplot as plt\n",
    "from sklearn.linear_model import LogisticRegression"
   ]
  },
  {
   "cell_type": "markdown",
   "metadata": {},
   "source": [
    "### Implementação da Regressão Linear e das Métricas de Avaliação (RSS,RSE,R2,MAE,MSE)"
   ]
  },
  {
   "cell_type": "code",
   "execution_count": 10,
   "metadata": {},
   "outputs": [],
   "source": [
    "class RegressaoLinearSimples(object):\n",
    "    \n",
    "    def __init__(self):\n",
    "        pass\n",
    "    \n",
    "    def fit(self, X, y):\n",
    "        \n",
    "        self.X = X\n",
    "        self.y = y\n",
    "        \n",
    "        x_mean = np.mean(self.X)\n",
    "        y_mean = np.mean(self.y)\n",
    "        \n",
    "        self.b1 = np.sum((self.X - x_mean)*(self.y - y_mean))\n",
    "        self.b1 = self.b1/np.sum((self.X - x_mean)**2)\n",
    "        \n",
    "        self.b0 = y_mean - (self.b1*x_mean)\n",
    "        \n",
    "    def predict(self, _X):\n",
    "        \n",
    "        self._y = self.b0 + self.b1*_X\n",
    "        return self._y\n",
    "\n",
    "class RegressaoLinearMultipla(object):\n",
    "    \n",
    "    def __init__(self):\n",
    "        pass\n",
    "    \n",
    "    def fit(self, X, y):\n",
    "        \n",
    "        bias = np.ones((X.shape[0],1))\n",
    "        self.X = np.concatenate( (bias,X),axis=1)\n",
    "        self.y = y\n",
    "        \n",
    "        self.b_ = self.X.T.dot( self.X )\n",
    "        self.b_ = np.linalg.inv(self.b_)\n",
    "        self.b_ = self.b_.dot(self.X.T)\n",
    "        self.b_ = self.b_.dot(self.y)\n",
    "        \n",
    "    def predict(self, _X):\n",
    "        \n",
    "        bias = np.ones((_X.shape[0],1))\n",
    "        _X = np.concatenate( (bias,_X),axis=1)\n",
    "        \n",
    "        _y = np.dot(_X, self.b_.T)\n",
    "        \n",
    "        return _y\n",
    "\n",
    "def RSS( y_true, y_predict ):\n",
    "    return np.sum( np.power((y_true-y_predict),2) )\n",
    "\n",
    "def RSE( y_true, y_predict ):  \n",
    "    n = y_true.shape[0]\n",
    "    rss = RSS(y_true, y_predict)\n",
    "    return np.power(( rss/(n-2) ),0.5)\n",
    "\n",
    "def R2( y_true, y_predict ):\n",
    "    y_mean = np.mean(y_true)\n",
    "    tss = np.sum( np.power((y_true-y_mean),2) )\n",
    "    rss = RSS( y_true, y_predict )\n",
    "    return 1 - ( rss/tss )\n",
    "\n",
    "def MAE( y_true, y_predict ):\n",
    "    n = y_true.shape[0]\n",
    "    return np.sum( abs(y_true-y_predict) ) / n\n",
    "\n",
    "def MSE( y_true, y_predict ):\n",
    "    n = y_true.shape[0]\n",
    "    return np.sum( np.power(y_true-y_predict,2) ) / n\n"
   ]
  },
  {
   "cell_type": "markdown",
   "metadata": {},
   "source": [
    "### Leitura dos dados utilizando a biblioteca pandas"
   ]
  },
  {
   "cell_type": "code",
   "execution_count": 3,
   "metadata": {},
   "outputs": [],
   "source": [
    "import pandas as pd\n",
    "data = pd.read_fwf(\"Data/housing.data\")"
   ]
  },
  {
   "cell_type": "code",
   "execution_count": 4,
   "metadata": {},
   "outputs": [
    {
     "data": {
      "text/html": [
       "<div>\n",
       "<style scoped>\n",
       "    .dataframe tbody tr th:only-of-type {\n",
       "        vertical-align: middle;\n",
       "    }\n",
       "\n",
       "    .dataframe tbody tr th {\n",
       "        vertical-align: top;\n",
       "    }\n",
       "\n",
       "    .dataframe thead th {\n",
       "        text-align: right;\n",
       "    }\n",
       "</style>\n",
       "<table border=\"1\" class=\"dataframe\">\n",
       "  <thead>\n",
       "    <tr style=\"text-align: right;\">\n",
       "      <th></th>\n",
       "      <th>CRIM</th>\n",
       "      <th>ZN</th>\n",
       "      <th>INDUS</th>\n",
       "      <th>C</th>\n",
       "      <th>NOX</th>\n",
       "      <th>RM</th>\n",
       "      <th>AGE</th>\n",
       "      <th>DIS</th>\n",
       "      <th>RA</th>\n",
       "      <th>TAX</th>\n",
       "      <th>PTRA</th>\n",
       "      <th>B</th>\n",
       "      <th>LSTAT</th>\n",
       "      <th>MEDV</th>\n",
       "    </tr>\n",
       "  </thead>\n",
       "  <tbody>\n",
       "    <tr>\n",
       "      <td>0</td>\n",
       "      <td>0.00632</td>\n",
       "      <td>18.0</td>\n",
       "      <td>2.31</td>\n",
       "      <td>0</td>\n",
       "      <td>0.538</td>\n",
       "      <td>6.575</td>\n",
       "      <td>65.2</td>\n",
       "      <td>4.0900</td>\n",
       "      <td>1</td>\n",
       "      <td>296.0</td>\n",
       "      <td>15.3</td>\n",
       "      <td>396.90</td>\n",
       "      <td>4.98</td>\n",
       "      <td>24.0</td>\n",
       "    </tr>\n",
       "    <tr>\n",
       "      <td>1</td>\n",
       "      <td>0.02731</td>\n",
       "      <td>0.0</td>\n",
       "      <td>7.07</td>\n",
       "      <td>0</td>\n",
       "      <td>0.469</td>\n",
       "      <td>6.421</td>\n",
       "      <td>78.9</td>\n",
       "      <td>4.9671</td>\n",
       "      <td>2</td>\n",
       "      <td>242.0</td>\n",
       "      <td>17.8</td>\n",
       "      <td>396.90</td>\n",
       "      <td>9.14</td>\n",
       "      <td>21.6</td>\n",
       "    </tr>\n",
       "    <tr>\n",
       "      <td>2</td>\n",
       "      <td>0.02729</td>\n",
       "      <td>0.0</td>\n",
       "      <td>7.07</td>\n",
       "      <td>0</td>\n",
       "      <td>0.469</td>\n",
       "      <td>7.185</td>\n",
       "      <td>61.1</td>\n",
       "      <td>4.9671</td>\n",
       "      <td>2</td>\n",
       "      <td>242.0</td>\n",
       "      <td>17.8</td>\n",
       "      <td>392.83</td>\n",
       "      <td>4.03</td>\n",
       "      <td>34.7</td>\n",
       "    </tr>\n",
       "    <tr>\n",
       "      <td>3</td>\n",
       "      <td>0.03237</td>\n",
       "      <td>0.0</td>\n",
       "      <td>2.18</td>\n",
       "      <td>0</td>\n",
       "      <td>0.458</td>\n",
       "      <td>6.998</td>\n",
       "      <td>45.8</td>\n",
       "      <td>6.0622</td>\n",
       "      <td>3</td>\n",
       "      <td>222.0</td>\n",
       "      <td>18.7</td>\n",
       "      <td>394.63</td>\n",
       "      <td>2.94</td>\n",
       "      <td>33.4</td>\n",
       "    </tr>\n",
       "    <tr>\n",
       "      <td>4</td>\n",
       "      <td>0.06905</td>\n",
       "      <td>0.0</td>\n",
       "      <td>2.18</td>\n",
       "      <td>0</td>\n",
       "      <td>0.458</td>\n",
       "      <td>7.147</td>\n",
       "      <td>54.2</td>\n",
       "      <td>6.0622</td>\n",
       "      <td>3</td>\n",
       "      <td>222.0</td>\n",
       "      <td>18.7</td>\n",
       "      <td>396.90</td>\n",
       "      <td>5.33</td>\n",
       "      <td>36.2</td>\n",
       "    </tr>\n",
       "  </tbody>\n",
       "</table>\n",
       "</div>"
      ],
      "text/plain": [
       "      CRIM    ZN  INDUS  C    NOX     RM   AGE     DIS  RA    TAX  PTRA  \\\n",
       "0  0.00632  18.0   2.31  0  0.538  6.575  65.2  4.0900   1  296.0  15.3   \n",
       "1  0.02731   0.0   7.07  0  0.469  6.421  78.9  4.9671   2  242.0  17.8   \n",
       "2  0.02729   0.0   7.07  0  0.469  7.185  61.1  4.9671   2  242.0  17.8   \n",
       "3  0.03237   0.0   2.18  0  0.458  6.998  45.8  6.0622   3  222.0  18.7   \n",
       "4  0.06905   0.0   2.18  0  0.458  7.147  54.2  6.0622   3  222.0  18.7   \n",
       "\n",
       "        B  LSTAT  MEDV  \n",
       "0  396.90   4.98  24.0  \n",
       "1  396.90   9.14  21.6  \n",
       "2  392.83   4.03  34.7  \n",
       "3  394.63   2.94  33.4  \n",
       "4  396.90   5.33  36.2  "
      ]
     },
     "execution_count": 4,
     "metadata": {},
     "output_type": "execute_result"
    }
   ],
   "source": [
    "data.head()"
   ]
  },
  {
   "cell_type": "markdown",
   "metadata": {},
   "source": [
    "### Embaralhando as amostras com seus valores alvo"
   ]
  },
  {
   "cell_type": "code",
   "execution_count": 5,
   "metadata": {},
   "outputs": [
    {
     "data": {
      "text/html": [
       "<div>\n",
       "<style scoped>\n",
       "    .dataframe tbody tr th:only-of-type {\n",
       "        vertical-align: middle;\n",
       "    }\n",
       "\n",
       "    .dataframe tbody tr th {\n",
       "        vertical-align: top;\n",
       "    }\n",
       "\n",
       "    .dataframe thead th {\n",
       "        text-align: right;\n",
       "    }\n",
       "</style>\n",
       "<table border=\"1\" class=\"dataframe\">\n",
       "  <thead>\n",
       "    <tr style=\"text-align: right;\">\n",
       "      <th></th>\n",
       "      <th>CRIM</th>\n",
       "      <th>ZN</th>\n",
       "      <th>INDUS</th>\n",
       "      <th>C</th>\n",
       "      <th>NOX</th>\n",
       "      <th>RM</th>\n",
       "      <th>AGE</th>\n",
       "      <th>DIS</th>\n",
       "      <th>RA</th>\n",
       "      <th>TAX</th>\n",
       "      <th>PTRA</th>\n",
       "      <th>B</th>\n",
       "      <th>LSTAT</th>\n",
       "      <th>MEDV</th>\n",
       "    </tr>\n",
       "  </thead>\n",
       "  <tbody>\n",
       "    <tr>\n",
       "      <td>358</td>\n",
       "      <td>5.20177</td>\n",
       "      <td>0.0</td>\n",
       "      <td>18.10</td>\n",
       "      <td>1</td>\n",
       "      <td>0.770</td>\n",
       "      <td>6.127</td>\n",
       "      <td>83.4</td>\n",
       "      <td>2.7227</td>\n",
       "      <td>4</td>\n",
       "      <td>666.0</td>\n",
       "      <td>20.2</td>\n",
       "      <td>395.43</td>\n",
       "      <td>11.48</td>\n",
       "      <td>22.7</td>\n",
       "    </tr>\n",
       "    <tr>\n",
       "      <td>197</td>\n",
       "      <td>0.04666</td>\n",
       "      <td>80.0</td>\n",
       "      <td>1.52</td>\n",
       "      <td>0</td>\n",
       "      <td>0.404</td>\n",
       "      <td>7.107</td>\n",
       "      <td>36.6</td>\n",
       "      <td>7.3090</td>\n",
       "      <td>2</td>\n",
       "      <td>329.0</td>\n",
       "      <td>12.6</td>\n",
       "      <td>354.31</td>\n",
       "      <td>8.61</td>\n",
       "      <td>30.3</td>\n",
       "    </tr>\n",
       "    <tr>\n",
       "      <td>48</td>\n",
       "      <td>0.25387</td>\n",
       "      <td>0.0</td>\n",
       "      <td>6.91</td>\n",
       "      <td>0</td>\n",
       "      <td>0.448</td>\n",
       "      <td>5.399</td>\n",
       "      <td>95.3</td>\n",
       "      <td>5.8700</td>\n",
       "      <td>3</td>\n",
       "      <td>233.0</td>\n",
       "      <td>17.9</td>\n",
       "      <td>396.90</td>\n",
       "      <td>30.81</td>\n",
       "      <td>14.4</td>\n",
       "    </tr>\n",
       "    <tr>\n",
       "      <td>450</td>\n",
       "      <td>6.71772</td>\n",
       "      <td>0.0</td>\n",
       "      <td>18.10</td>\n",
       "      <td>0</td>\n",
       "      <td>0.713</td>\n",
       "      <td>6.749</td>\n",
       "      <td>92.6</td>\n",
       "      <td>2.3236</td>\n",
       "      <td>4</td>\n",
       "      <td>666.0</td>\n",
       "      <td>20.2</td>\n",
       "      <td>0.32</td>\n",
       "      <td>17.44</td>\n",
       "      <td>13.4</td>\n",
       "    </tr>\n",
       "    <tr>\n",
       "      <td>469</td>\n",
       "      <td>3.07510</td>\n",
       "      <td>0.0</td>\n",
       "      <td>18.10</td>\n",
       "      <td>0</td>\n",
       "      <td>0.580</td>\n",
       "      <td>5.713</td>\n",
       "      <td>56.7</td>\n",
       "      <td>2.8237</td>\n",
       "      <td>4</td>\n",
       "      <td>666.0</td>\n",
       "      <td>20.2</td>\n",
       "      <td>396.90</td>\n",
       "      <td>14.76</td>\n",
       "      <td>20.1</td>\n",
       "    </tr>\n",
       "  </tbody>\n",
       "</table>\n",
       "</div>"
      ],
      "text/plain": [
       "        CRIM    ZN  INDUS  C    NOX     RM   AGE     DIS  RA    TAX  PTRA  \\\n",
       "358  5.20177   0.0  18.10  1  0.770  6.127  83.4  2.7227   4  666.0  20.2   \n",
       "197  0.04666  80.0   1.52  0  0.404  7.107  36.6  7.3090   2  329.0  12.6   \n",
       "48   0.25387   0.0   6.91  0  0.448  5.399  95.3  5.8700   3  233.0  17.9   \n",
       "450  6.71772   0.0  18.10  0  0.713  6.749  92.6  2.3236   4  666.0  20.2   \n",
       "469  3.07510   0.0  18.10  0  0.580  5.713  56.7  2.8237   4  666.0  20.2   \n",
       "\n",
       "          B  LSTAT  MEDV  \n",
       "358  395.43  11.48  22.7  \n",
       "197  354.31   8.61  30.3  \n",
       "48   396.90  30.81  14.4  \n",
       "450    0.32  17.44  13.4  \n",
       "469  396.90  14.76  20.1  "
      ]
     },
     "execution_count": 5,
     "metadata": {},
     "output_type": "execute_result"
    }
   ],
   "source": [
    "data = data.sample(frac=1, random_state=40)\n",
    "data.head()"
   ]
  },
  {
   "cell_type": "markdown",
   "metadata": {},
   "source": [
    "### Utilizando apenas a variável LSTAT como atributo preditor e a variável MEDV como atributo alvo"
   ]
  },
  {
   "cell_type": "code",
   "execution_count": 6,
   "metadata": {},
   "outputs": [],
   "source": [
    "X = data.LSTAT\n",
    "y = data.MEDV"
   ]
  },
  {
   "cell_type": "markdown",
   "metadata": {},
   "source": [
    "### Dividindo o conjunto de dados em 80% para treino e 20% para teste utilizando o sklearn"
   ]
  },
  {
   "cell_type": "code",
   "execution_count": 7,
   "metadata": {},
   "outputs": [],
   "source": [
    "from sklearn.model_selection import train_test_split\n",
    "\n",
    "X_train, X_test, y_train, y_test = train_test_split(X,y,test_size=0.2,random_state=4)"
   ]
  },
  {
   "cell_type": "markdown",
   "metadata": {},
   "source": [
    "### Criando e treinando um modelo de Regressão Linear Simples"
   ]
  },
  {
   "cell_type": "code",
   "execution_count": 8,
   "metadata": {},
   "outputs": [],
   "source": [
    "rls = RegressaoLinearSimples()\n",
    "\n",
    "rls.fit(X_train,y_train)"
   ]
  },
  {
   "cell_type": "markdown",
   "metadata": {},
   "source": [
    "### Reportando MSE e R2 score para o conjunto de treino"
   ]
  },
  {
   "cell_type": "code",
   "execution_count": 11,
   "metadata": {},
   "outputs": [
    {
     "name": "stdout",
     "output_type": "stream",
     "text": [
      "Conjuto de treino\n",
      "MSE:  35.37430617110251\n",
      "R2:  0.5360524503033299\n"
     ]
    }
   ],
   "source": [
    "y_pred_train = rls.predict(X_train)\n",
    "print(\"Conjuto de treino\")\n",
    "print(\"MSE: \",MSE(y_train,y_pred_train))\n",
    "print(\"R2: \",R2(y_train,y_pred_train))"
   ]
  },
  {
   "cell_type": "markdown",
   "metadata": {},
   "source": [
    "### Reportando MSE e R 2 score para o conjunto de teste"
   ]
  },
  {
   "cell_type": "code",
   "execution_count": 12,
   "metadata": {},
   "outputs": [
    {
     "name": "stdout",
     "output_type": "stream",
     "text": [
      "Conjuto de teste\n",
      "MSE:  51.90140276254096\n",
      "R2:  0.5348957403921226\n"
     ]
    }
   ],
   "source": [
    "y_pred_test = rls.predict(X_test)\n",
    "print(\"Conjuto de teste\")\n",
    "print(\"MSE: \",MSE(y_test,y_pred_test))\n",
    "print(\"R2: \",R2(y_test,y_pred_test))"
   ]
  },
  {
   "cell_type": "markdown",
   "metadata": {},
   "source": [
    "### Plotando um gráfico com LSTAT no eixo X e MEDV no eixo Y onde é apresentado tanto os dados originais (conjunto inteiro) como pontos quanto a reta da regressão linear"
   ]
  },
  {
   "cell_type": "code",
   "execution_count": 13,
   "metadata": {
    "scrolled": true
   },
   "outputs": [
    {
     "data": {
      "image/png": "[encoded data removed]",
      "text/plain": [
       "<Figure size 432x288 with 1 Axes>"
      ]
     },
     "metadata": {
      "needs_background": "light"
     },
     "output_type": "display_data"
    }
   ],
   "source": [
    "plt.scatter(X,y,c='y')\n",
    "plt.plot(X_test,y_pred_test,c='g')\n",
    "plt.grid()\n",
    "plt.show()"
   ]
  },
  {
   "cell_type": "markdown",
   "metadata": {},
   "source": [
    "### Plotando um gráfico onde os valores preditos para o conjunto de treino estão no eixo X e os valores alvo originais estão no eixo Y. Também é plotado a reta Y=X para comparação."
   ]
  },
  {
   "cell_type": "code",
   "execution_count": 14,
   "metadata": {},
   "outputs": [
    {
     "data": {
      "image/png": "[encoded data removed]",
      "text/plain": [
       "<Figure size 432x288 with 1 Axes>"
      ]
     },
     "metadata": {
      "needs_background": "light"
     },
     "output_type": "display_data"
    }
   ],
   "source": [
    "plt.scatter(y_pred_train,y_train,c='b')\n",
    "plt.plot(range(35),range(35),c='r')\n",
    "plt.show()"
   ]
  },
  {
   "cell_type": "markdown",
   "metadata": {},
   "source": [
    "### Adicionando o termo LSTAT2 e LSTAT3 ao conjunto de dados e refazendo toda  a análise anterior"
   ]
  },
  {
   "cell_type": "code",
   "execution_count": 15,
   "metadata": {},
   "outputs": [
    {
     "data": {
      "text/html": [
       "<div>\n",
       "<style scoped>\n",
       "    .dataframe tbody tr th:only-of-type {\n",
       "        vertical-align: middle;\n",
       "    }\n",
       "\n",
       "    .dataframe tbody tr th {\n",
       "        vertical-align: top;\n",
       "    }\n",
       "\n",
       "    .dataframe thead th {\n",
       "        text-align: right;\n",
       "    }\n",
       "</style>\n",
       "<table border=\"1\" class=\"dataframe\">\n",
       "  <thead>\n",
       "    <tr style=\"text-align: right;\">\n",
       "      <th></th>\n",
       "      <th>CRIM</th>\n",
       "      <th>ZN</th>\n",
       "      <th>INDUS</th>\n",
       "      <th>C</th>\n",
       "      <th>NOX</th>\n",
       "      <th>RM</th>\n",
       "      <th>AGE</th>\n",
       "      <th>DIS</th>\n",
       "      <th>RA</th>\n",
       "      <th>TAX</th>\n",
       "      <th>PTRA</th>\n",
       "      <th>B</th>\n",
       "      <th>LSTAT</th>\n",
       "      <th>MEDV</th>\n",
       "      <th>LSTAT2</th>\n",
       "      <th>LSTAT3</th>\n",
       "    </tr>\n",
       "  </thead>\n",
       "  <tbody>\n",
       "    <tr>\n",
       "      <td>358</td>\n",
       "      <td>5.20177</td>\n",
       "      <td>0.0</td>\n",
       "      <td>18.10</td>\n",
       "      <td>1</td>\n",
       "      <td>0.770</td>\n",
       "      <td>6.127</td>\n",
       "      <td>83.4</td>\n",
       "      <td>2.7227</td>\n",
       "      <td>4</td>\n",
       "      <td>666.0</td>\n",
       "      <td>20.2</td>\n",
       "      <td>395.43</td>\n",
       "      <td>11.48</td>\n",
       "      <td>22.7</td>\n",
       "      <td>131.7904</td>\n",
       "      <td>1512.953792</td>\n",
       "    </tr>\n",
       "    <tr>\n",
       "      <td>197</td>\n",
       "      <td>0.04666</td>\n",
       "      <td>80.0</td>\n",
       "      <td>1.52</td>\n",
       "      <td>0</td>\n",
       "      <td>0.404</td>\n",
       "      <td>7.107</td>\n",
       "      <td>36.6</td>\n",
       "      <td>7.3090</td>\n",
       "      <td>2</td>\n",
       "      <td>329.0</td>\n",
       "      <td>12.6</td>\n",
       "      <td>354.31</td>\n",
       "      <td>8.61</td>\n",
       "      <td>30.3</td>\n",
       "      <td>74.1321</td>\n",
       "      <td>638.277381</td>\n",
       "    </tr>\n",
       "    <tr>\n",
       "      <td>48</td>\n",
       "      <td>0.25387</td>\n",
       "      <td>0.0</td>\n",
       "      <td>6.91</td>\n",
       "      <td>0</td>\n",
       "      <td>0.448</td>\n",
       "      <td>5.399</td>\n",
       "      <td>95.3</td>\n",
       "      <td>5.8700</td>\n",
       "      <td>3</td>\n",
       "      <td>233.0</td>\n",
       "      <td>17.9</td>\n",
       "      <td>396.90</td>\n",
       "      <td>30.81</td>\n",
       "      <td>14.4</td>\n",
       "      <td>949.2561</td>\n",
       "      <td>29246.580441</td>\n",
       "    </tr>\n",
       "    <tr>\n",
       "      <td>450</td>\n",
       "      <td>6.71772</td>\n",
       "      <td>0.0</td>\n",
       "      <td>18.10</td>\n",
       "      <td>0</td>\n",
       "      <td>0.713</td>\n",
       "      <td>6.749</td>\n",
       "      <td>92.6</td>\n",
       "      <td>2.3236</td>\n",
       "      <td>4</td>\n",
       "      <td>666.0</td>\n",
       "      <td>20.2</td>\n",
       "      <td>0.32</td>\n",
       "      <td>17.44</td>\n",
       "      <td>13.4</td>\n",
       "      <td>304.1536</td>\n",
       "      <td>5304.438784</td>\n",
       "    </tr>\n",
       "    <tr>\n",
       "      <td>469</td>\n",
       "      <td>3.07510</td>\n",
       "      <td>0.0</td>\n",
       "      <td>18.10</td>\n",
       "      <td>0</td>\n",
       "      <td>0.580</td>\n",
       "      <td>5.713</td>\n",
       "      <td>56.7</td>\n",
       "      <td>2.8237</td>\n",
       "      <td>4</td>\n",
       "      <td>666.0</td>\n",
       "      <td>20.2</td>\n",
       "      <td>396.90</td>\n",
       "      <td>14.76</td>\n",
       "      <td>20.1</td>\n",
       "      <td>217.8576</td>\n",
       "      <td>3215.578176</td>\n",
       "    </tr>\n",
       "  </tbody>\n",
       "</table>\n",
       "</div>"
      ],
      "text/plain": [
       "        CRIM    ZN  INDUS  C    NOX     RM   AGE     DIS  RA    TAX  PTRA  \\\n",
       "358  5.20177   0.0  18.10  1  0.770  6.127  83.4  2.7227   4  666.0  20.2   \n",
       "197  0.04666  80.0   1.52  0  0.404  7.107  36.6  7.3090   2  329.0  12.6   \n",
       "48   0.25387   0.0   6.91  0  0.448  5.399  95.3  5.8700   3  233.0  17.9   \n",
       "450  6.71772   0.0  18.10  0  0.713  6.749  92.6  2.3236   4  666.0  20.2   \n",
       "469  3.07510   0.0  18.10  0  0.580  5.713  56.7  2.8237   4  666.0  20.2   \n",
       "\n",
       "          B  LSTAT  MEDV    LSTAT2        LSTAT3  \n",
       "358  395.43  11.48  22.7  131.7904   1512.953792  \n",
       "197  354.31   8.61  30.3   74.1321    638.277381  \n",
       "48   396.90  30.81  14.4  949.2561  29246.580441  \n",
       "450    0.32  17.44  13.4  304.1536   5304.438784  \n",
       "469  396.90  14.76  20.1  217.8576   3215.578176  "
      ]
     },
     "execution_count": 15,
     "metadata": {},
     "output_type": "execute_result"
    }
   ],
   "source": [
    "data[\"LSTAT2\"] = [ np.power(x,2) for x in data.LSTAT]\n",
    "data[\"LSTAT3\"] = [ np.power(x,3) for x in data.LSTAT]\n",
    "data.head()"
   ]
  },
  {
   "cell_type": "markdown",
   "metadata": {},
   "source": [
    "#### Análise com o termo LSTAT2"
   ]
  },
  {
   "cell_type": "code",
   "execution_count": 16,
   "metadata": {},
   "outputs": [],
   "source": [
    "X = data.loc[:,[\"LSTAT\",\"LSTAT2\"]]\n",
    "y = data[\"MEDV\"]\n",
    "\n",
    "X_train, X_test, y_train, y_test = train_test_split(X,y,test_size=0.2,random_state=4)\n",
    "\n",
    "rlm = RegressaoLinearMultipla()\n",
    "\n",
    "rlm.fit(X_train,y_train)"
   ]
  },
  {
   "cell_type": "code",
   "execution_count": 17,
   "metadata": {},
   "outputs": [
    {
     "name": "stdout",
     "output_type": "stream",
     "text": [
      "Conjuto de treino\n",
      "MSE:  28.190964763941444\n",
      "R2:  0.6302647191847901\n",
      "\n",
      "Conjuto de teste\n",
      "MSE:  39.537840484020684\n",
      "R2:  0.6456893832147648\n"
     ]
    }
   ],
   "source": [
    "y_pred_train = rlm.predict(X_train)\n",
    "print(\"Conjuto de treino\")\n",
    "print(\"MSE: \",MSE(y_train,y_pred_train))\n",
    "print(\"R2: \",R2(y_train,y_pred_train))\n",
    "print()\n",
    "\n",
    "y_pred_test = rlm.predict(X_test)\n",
    "print(\"Conjuto de teste\")\n",
    "print(\"MSE: \",MSE(y_test,y_pred_test))\n",
    "print(\"R2: \",R2(y_test,y_pred_test))"
   ]
  },
  {
   "cell_type": "code",
   "execution_count": 18,
   "metadata": {},
   "outputs": [
    {
     "data": {
      "image/png": "[encoded data removed]",
      "text/plain": [
       "<Figure size 432x288 with 1 Axes>"
      ]
     },
     "metadata": {
      "needs_background": "light"
     },
     "output_type": "display_data"
    }
   ],
   "source": [
    "X_test = X_test.sort_values(by=['LSTAT'])\n",
    "y_pred_test = rlm.predict(X_test)\n",
    "\n",
    "plt.scatter(X.LSTAT,y,c='y')\n",
    "plt.plot(X_test.LSTAT,y_pred_test,c='g')\n",
    "plt.grid()\n",
    "plt.show()"
   ]
  },
  {
   "cell_type": "code",
   "execution_count": 19,
   "metadata": {},
   "outputs": [
    {
     "data": {
      "image/png": "[encoded data removed]",
      "text/plain": [
       "<Figure size 432x288 with 1 Axes>"
      ]
     },
     "metadata": {
      "needs_background": "light"
     },
     "output_type": "display_data"
    }
   ],
   "source": [
    "plt.scatter(y_pred_train,y_train,c='b')\n",
    "plt.plot(range(45),range(45),c='r')\n",
    "plt.show()"
   ]
  },
  {
   "cell_type": "markdown",
   "metadata": {},
   "source": [
    "#### Análise com o termo LSTA3"
   ]
  },
  {
   "cell_type": "code",
   "execution_count": 20,
   "metadata": {},
   "outputs": [],
   "source": [
    "X = data.loc[:,[\"LSTAT\",\"LSTAT2\",\"LSTAT3\"]]\n",
    "y = data[\"MEDV\"]\n",
    "\n",
    "X_train, X_test, y_train, y_test = train_test_split(X,y,test_size=0.2,random_state=4)\n",
    "\n",
    "rlm = RegressaoLinearMultipla()\n",
    "\n",
    "rlm.fit(X_train,y_train)"
   ]
  },
  {
   "cell_type": "code",
   "execution_count": 21,
   "metadata": {},
   "outputs": [
    {
     "name": "stdout",
     "output_type": "stream",
     "text": [
      "Conjuto de treino\n",
      "MSE:  26.91670346194065\n",
      "R2:  0.6469771433345959\n",
      "\n",
      "Conjuto de teste\n",
      "MSE:  37.1873365522604\n",
      "R2:  0.666752964017937\n"
     ]
    }
   ],
   "source": [
    "y_pred_train = rlm.predict(X_train)\n",
    "print(\"Conjuto de treino\")\n",
    "print(\"MSE: \",MSE(y_train,y_pred_train))\n",
    "print(\"R2: \",R2(y_train,y_pred_train))\n",
    "print()\n",
    "\n",
    "y_pred_test = rlm.predict(X_test)\n",
    "print(\"Conjuto de teste\")\n",
    "print(\"MSE: \",MSE(y_test,y_pred_test))\n",
    "print(\"R2: \",R2(y_test,y_pred_test))"
   ]
  },
  {
   "cell_type": "code",
   "execution_count": 22,
   "metadata": {},
   "outputs": [
    {
     "data": {
      "image/png": "[encoded data removed]",
      "text/plain": [
       "<Figure size 432x288 with 1 Axes>"
      ]
     },
     "metadata": {
      "needs_background": "light"
     },
     "output_type": "display_data"
    }
   ],
   "source": [
    "X_test = X_test.sort_values(by=['LSTAT'])\n",
    "y_pred_test = rlm.predict(X_test)\n",
    "\n",
    "plt.scatter(X.LSTAT,y,c='y')\n",
    "plt.plot(X_test.LSTAT,y_pred_test,c='g')\n",
    "plt.grid()\n",
    "plt.show()"
   ]
  },
  {
   "cell_type": "code",
   "execution_count": 23,
   "metadata": {},
   "outputs": [
    {
     "data": {
      "image/png": "[encoded data removed]",
      "text/plain": [
       "<Figure size 432x288 with 1 Axes>"
      ]
     },
     "metadata": {
      "needs_background": "light"
     },
     "output_type": "display_data"
    }
   ],
   "source": [
    "plt.scatter(y_pred_train,y_train,c='b')\n",
    "plt.plot(range(45),range(45),c='r')\n",
    "plt.show()"
   ]
  }
 ],
 "metadata": {
  "kernelspec": {
   "display_name": "Python 3",
   "language": "python",
   "name": "python3"
  },
  "language_info": {
   "codemirror_mode": {
    "name": "ipython",
    "version": 3
   },
   "file_extension": ".py",
   "mimetype": "text/x-python",
   "name": "python",
   "nbconvert_exporter": "python",
   "pygments_lexer": "ipython3",
   "version": "3.7.4"
  }
 },
 "nbformat": 4,
 "nbformat_minor": 2
}
