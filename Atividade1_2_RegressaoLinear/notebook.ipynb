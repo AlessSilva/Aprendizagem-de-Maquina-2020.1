{
 "cells": [
  {
   "cell_type": "markdown",
   "metadata": {},
   "source": [
    "# Atividade 1.2 - Regressão Linear\n",
    "\n",
    "## Nome: Alessandro Souza Silva, mat: 399941"
   ]
  },
  {
   "cell_type": "markdown",
   "metadata": {},
   "source": [
    "## Questão 01"
   ]
  },
  {
   "cell_type": "markdown",
   "metadata": {},
   "source": [
    "#### Implementação dos métodos de regressão\n",
    "\n",
    "Todos os métodos implementados estão salvos no módulo RegressaoLinear!"
   ]
  },
  {
   "cell_type": "code",
   "execution_count": 1,
   "metadata": {},
   "outputs": [],
   "source": [
    "from RegressaoLinear import *"
   ]
  },
  {
   "cell_type": "markdown",
   "metadata": {},
   "source": [
    "## Questão 02"
   ]
  },
  {
   "cell_type": "markdown",
   "metadata": {},
   "source": [
    "#### Implementação das métricas\n",
    "\n",
    "Todas as métricas implemenadas estão salvas no módulo Metricas!"
   ]
  },
  {
   "cell_type": "code",
   "execution_count": 2,
   "metadata": {},
   "outputs": [],
   "source": [
    "from Metricas import *"
   ]
  },
  {
   "cell_type": "markdown",
   "metadata": {},
   "source": [
    "## Questões 03, 04 e 05"
   ]
  },
  {
   "cell_type": "markdown",
   "metadata": {},
   "source": [
    "#### Leitura do conjunto de dados Boston House Price Dataset"
   ]
  },
  {
   "cell_type": "code",
   "execution_count": 3,
   "metadata": {},
   "outputs": [],
   "source": [
    "import pandas as pd\n",
    "import matplotlib.pyplot as plt"
   ]
  },
  {
   "cell_type": "code",
   "execution_count": 4,
   "metadata": {},
   "outputs": [
    {
     "data": {
      "text/html": [
       "<div>\n",
       "<style scoped>\n",
       "    .dataframe tbody tr th:only-of-type {\n",
       "        vertical-align: middle;\n",
       "    }\n",
       "\n",
       "    .dataframe tbody tr th {\n",
       "        vertical-align: top;\n",
       "    }\n",
       "\n",
       "    .dataframe thead th {\n",
       "        text-align: right;\n",
       "    }\n",
       "</style>\n",
       "<table border=\"1\" class=\"dataframe\">\n",
       "  <thead>\n",
       "    <tr style=\"text-align: right;\">\n",
       "      <th></th>\n",
       "      <th>CRIM</th>\n",
       "      <th>ZN</th>\n",
       "      <th>INDUS</th>\n",
       "      <th>C</th>\n",
       "      <th>NOX</th>\n",
       "      <th>RM</th>\n",
       "      <th>AGE</th>\n",
       "      <th>DIS</th>\n",
       "      <th>RA</th>\n",
       "      <th>TAX</th>\n",
       "      <th>PTRA</th>\n",
       "      <th>B</th>\n",
       "      <th>LSTAT</th>\n",
       "      <th>MEDV</th>\n",
       "    </tr>\n",
       "  </thead>\n",
       "  <tbody>\n",
       "    <tr>\n",
       "      <th>0</th>\n",
       "      <td>0.00632</td>\n",
       "      <td>18.0</td>\n",
       "      <td>2.31</td>\n",
       "      <td>0</td>\n",
       "      <td>0.538</td>\n",
       "      <td>6.575</td>\n",
       "      <td>65.2</td>\n",
       "      <td>4.0900</td>\n",
       "      <td>1</td>\n",
       "      <td>296.0</td>\n",
       "      <td>15.3</td>\n",
       "      <td>396.90</td>\n",
       "      <td>4.98</td>\n",
       "      <td>24.0</td>\n",
       "    </tr>\n",
       "    <tr>\n",
       "      <th>1</th>\n",
       "      <td>0.02731</td>\n",
       "      <td>0.0</td>\n",
       "      <td>7.07</td>\n",
       "      <td>0</td>\n",
       "      <td>0.469</td>\n",
       "      <td>6.421</td>\n",
       "      <td>78.9</td>\n",
       "      <td>4.9671</td>\n",
       "      <td>2</td>\n",
       "      <td>242.0</td>\n",
       "      <td>17.8</td>\n",
       "      <td>396.90</td>\n",
       "      <td>9.14</td>\n",
       "      <td>21.6</td>\n",
       "    </tr>\n",
       "    <tr>\n",
       "      <th>2</th>\n",
       "      <td>0.02729</td>\n",
       "      <td>0.0</td>\n",
       "      <td>7.07</td>\n",
       "      <td>0</td>\n",
       "      <td>0.469</td>\n",
       "      <td>7.185</td>\n",
       "      <td>61.1</td>\n",
       "      <td>4.9671</td>\n",
       "      <td>2</td>\n",
       "      <td>242.0</td>\n",
       "      <td>17.8</td>\n",
       "      <td>392.83</td>\n",
       "      <td>4.03</td>\n",
       "      <td>34.7</td>\n",
       "    </tr>\n",
       "    <tr>\n",
       "      <th>3</th>\n",
       "      <td>0.03237</td>\n",
       "      <td>0.0</td>\n",
       "      <td>2.18</td>\n",
       "      <td>0</td>\n",
       "      <td>0.458</td>\n",
       "      <td>6.998</td>\n",
       "      <td>45.8</td>\n",
       "      <td>6.0622</td>\n",
       "      <td>3</td>\n",
       "      <td>222.0</td>\n",
       "      <td>18.7</td>\n",
       "      <td>394.63</td>\n",
       "      <td>2.94</td>\n",
       "      <td>33.4</td>\n",
       "    </tr>\n",
       "    <tr>\n",
       "      <th>4</th>\n",
       "      <td>0.06905</td>\n",
       "      <td>0.0</td>\n",
       "      <td>2.18</td>\n",
       "      <td>0</td>\n",
       "      <td>0.458</td>\n",
       "      <td>7.147</td>\n",
       "      <td>54.2</td>\n",
       "      <td>6.0622</td>\n",
       "      <td>3</td>\n",
       "      <td>222.0</td>\n",
       "      <td>18.7</td>\n",
       "      <td>396.90</td>\n",
       "      <td>5.33</td>\n",
       "      <td>36.2</td>\n",
       "    </tr>\n",
       "  </tbody>\n",
       "</table>\n",
       "</div>"
      ],
      "text/plain": [
       "      CRIM    ZN  INDUS  C    NOX     RM   AGE     DIS  RA    TAX  PTRA  \\\n",
       "0  0.00632  18.0   2.31  0  0.538  6.575  65.2  4.0900   1  296.0  15.3   \n",
       "1  0.02731   0.0   7.07  0  0.469  6.421  78.9  4.9671   2  242.0  17.8   \n",
       "2  0.02729   0.0   7.07  0  0.469  7.185  61.1  4.9671   2  242.0  17.8   \n",
       "3  0.03237   0.0   2.18  0  0.458  6.998  45.8  6.0622   3  222.0  18.7   \n",
       "4  0.06905   0.0   2.18  0  0.458  7.147  54.2  6.0622   3  222.0  18.7   \n",
       "\n",
       "        B  LSTAT  MEDV  \n",
       "0  396.90   4.98  24.0  \n",
       "1  396.90   9.14  21.6  \n",
       "2  392.83   4.03  34.7  \n",
       "3  394.63   2.94  33.4  \n",
       "4  396.90   5.33  36.2  "
      ]
     },
     "execution_count": 4,
     "metadata": {},
     "output_type": "execute_result"
    }
   ],
   "source": [
    "data = pd.read_fwf(\"data/housing.data\")\n",
    "data.head()"
   ]
  },
  {
   "cell_type": "markdown",
   "metadata": {},
   "source": [
    "#### Embaralhando o conjunto de dados"
   ]
  },
  {
   "cell_type": "code",
   "execution_count": 5,
   "metadata": {},
   "outputs": [
    {
     "data": {
      "text/html": [
       "<div>\n",
       "<style scoped>\n",
       "    .dataframe tbody tr th:only-of-type {\n",
       "        vertical-align: middle;\n",
       "    }\n",
       "\n",
       "    .dataframe tbody tr th {\n",
       "        vertical-align: top;\n",
       "    }\n",
       "\n",
       "    .dataframe thead th {\n",
       "        text-align: right;\n",
       "    }\n",
       "</style>\n",
       "<table border=\"1\" class=\"dataframe\">\n",
       "  <thead>\n",
       "    <tr style=\"text-align: right;\">\n",
       "      <th></th>\n",
       "      <th>CRIM</th>\n",
       "      <th>ZN</th>\n",
       "      <th>INDUS</th>\n",
       "      <th>C</th>\n",
       "      <th>NOX</th>\n",
       "      <th>RM</th>\n",
       "      <th>AGE</th>\n",
       "      <th>DIS</th>\n",
       "      <th>RA</th>\n",
       "      <th>TAX</th>\n",
       "      <th>PTRA</th>\n",
       "      <th>B</th>\n",
       "      <th>LSTAT</th>\n",
       "      <th>MEDV</th>\n",
       "    </tr>\n",
       "  </thead>\n",
       "  <tbody>\n",
       "    <tr>\n",
       "      <th>358</th>\n",
       "      <td>5.20177</td>\n",
       "      <td>0.0</td>\n",
       "      <td>18.10</td>\n",
       "      <td>1</td>\n",
       "      <td>0.770</td>\n",
       "      <td>6.127</td>\n",
       "      <td>83.4</td>\n",
       "      <td>2.7227</td>\n",
       "      <td>4</td>\n",
       "      <td>666.0</td>\n",
       "      <td>20.2</td>\n",
       "      <td>395.43</td>\n",
       "      <td>11.48</td>\n",
       "      <td>22.7</td>\n",
       "    </tr>\n",
       "    <tr>\n",
       "      <th>197</th>\n",
       "      <td>0.04666</td>\n",
       "      <td>80.0</td>\n",
       "      <td>1.52</td>\n",
       "      <td>0</td>\n",
       "      <td>0.404</td>\n",
       "      <td>7.107</td>\n",
       "      <td>36.6</td>\n",
       "      <td>7.3090</td>\n",
       "      <td>2</td>\n",
       "      <td>329.0</td>\n",
       "      <td>12.6</td>\n",
       "      <td>354.31</td>\n",
       "      <td>8.61</td>\n",
       "      <td>30.3</td>\n",
       "    </tr>\n",
       "    <tr>\n",
       "      <th>48</th>\n",
       "      <td>0.25387</td>\n",
       "      <td>0.0</td>\n",
       "      <td>6.91</td>\n",
       "      <td>0</td>\n",
       "      <td>0.448</td>\n",
       "      <td>5.399</td>\n",
       "      <td>95.3</td>\n",
       "      <td>5.8700</td>\n",
       "      <td>3</td>\n",
       "      <td>233.0</td>\n",
       "      <td>17.9</td>\n",
       "      <td>396.90</td>\n",
       "      <td>30.81</td>\n",
       "      <td>14.4</td>\n",
       "    </tr>\n",
       "    <tr>\n",
       "      <th>450</th>\n",
       "      <td>6.71772</td>\n",
       "      <td>0.0</td>\n",
       "      <td>18.10</td>\n",
       "      <td>0</td>\n",
       "      <td>0.713</td>\n",
       "      <td>6.749</td>\n",
       "      <td>92.6</td>\n",
       "      <td>2.3236</td>\n",
       "      <td>4</td>\n",
       "      <td>666.0</td>\n",
       "      <td>20.2</td>\n",
       "      <td>0.32</td>\n",
       "      <td>17.44</td>\n",
       "      <td>13.4</td>\n",
       "    </tr>\n",
       "    <tr>\n",
       "      <th>469</th>\n",
       "      <td>3.07510</td>\n",
       "      <td>0.0</td>\n",
       "      <td>18.10</td>\n",
       "      <td>0</td>\n",
       "      <td>0.580</td>\n",
       "      <td>5.713</td>\n",
       "      <td>56.7</td>\n",
       "      <td>2.8237</td>\n",
       "      <td>4</td>\n",
       "      <td>666.0</td>\n",
       "      <td>20.2</td>\n",
       "      <td>396.90</td>\n",
       "      <td>14.76</td>\n",
       "      <td>20.1</td>\n",
       "    </tr>\n",
       "  </tbody>\n",
       "</table>\n",
       "</div>"
      ],
      "text/plain": [
       "        CRIM    ZN  INDUS  C    NOX     RM   AGE     DIS  RA    TAX  PTRA  \\\n",
       "358  5.20177   0.0  18.10  1  0.770  6.127  83.4  2.7227   4  666.0  20.2   \n",
       "197  0.04666  80.0   1.52  0  0.404  7.107  36.6  7.3090   2  329.0  12.6   \n",
       "48   0.25387   0.0   6.91  0  0.448  5.399  95.3  5.8700   3  233.0  17.9   \n",
       "450  6.71772   0.0  18.10  0  0.713  6.749  92.6  2.3236   4  666.0  20.2   \n",
       "469  3.07510   0.0  18.10  0  0.580  5.713  56.7  2.8237   4  666.0  20.2   \n",
       "\n",
       "          B  LSTAT  MEDV  \n",
       "358  395.43  11.48  22.7  \n",
       "197  354.31   8.61  30.3  \n",
       "48   396.90  30.81  14.4  \n",
       "450    0.32  17.44  13.4  \n",
       "469  396.90  14.76  20.1  "
      ]
     },
     "execution_count": 5,
     "metadata": {},
     "output_type": "execute_result"
    }
   ],
   "source": [
    "data = data.sample( frac=1, random_state=40 )\n",
    "data.head()"
   ]
  },
  {
   "cell_type": "markdown",
   "metadata": {},
   "source": [
    "#### Capturando o atributo LSTAT como preditor e o atributo MEDV como alvo"
   ]
  },
  {
   "cell_type": "code",
   "execution_count": 6,
   "metadata": {},
   "outputs": [],
   "source": [
    "x = data.loc[:,['LSTAT']].values\n",
    "y = data['MEDV'].values.reshape(-1,1)"
   ]
  },
  {
   "cell_type": "markdown",
   "metadata": {},
   "source": [
    "#### Separando os dados em treino e teste"
   ]
  },
  {
   "cell_type": "code",
   "execution_count": 7,
   "metadata": {},
   "outputs": [],
   "source": [
    "from sklearn.model_selection import train_test_split\n",
    "\n",
    "x_train, x_test, y_train, y_test = train_test_split(x,y,test_size=0.2,random_state=4)"
   ]
  },
  {
   "cell_type": "code",
   "execution_count": 8,
   "metadata": {},
   "outputs": [
    {
     "name": "stdout",
     "output_type": "stream",
     "text": [
      "Treino shape :  (404, 1)\n",
      "Teste shape :  (102, 1)\n"
     ]
    }
   ],
   "source": [
    "print('Treino shape : ',x_train.shape)\n",
    "print('Teste shape : ',x_test.shape)"
   ]
  },
  {
   "cell_type": "markdown",
   "metadata": {},
   "source": [
    "## Questão 06"
   ]
  },
  {
   "cell_type": "markdown",
   "metadata": {},
   "source": [
    "#### Regressão Linear Univariada com Método Analítico "
   ]
  },
  {
   "cell_type": "code",
   "execution_count": 9,
   "metadata": {},
   "outputs": [],
   "source": [
    "regA = RegLinearUnivariadaMA()"
   ]
  },
  {
   "cell_type": "code",
   "execution_count": 10,
   "metadata": {},
   "outputs": [],
   "source": [
    "regA.fit( x=x_train, y=y_train )"
   ]
  },
  {
   "cell_type": "code",
   "execution_count": 11,
   "metadata": {},
   "outputs": [],
   "source": [
    "y_pred_train = regA.predict( x=x_train )\n",
    "y_pred_test = regA.predict( x=x_test )"
   ]
  },
  {
   "cell_type": "code",
   "execution_count": 12,
   "metadata": {},
   "outputs": [
    {
     "name": "stdout",
     "output_type": "stream",
     "text": [
      "Conjunto de Treino!!!\n",
      "MSE: 35.37430617110251\n",
      "R2: 0.5360524503033299\n"
     ]
    }
   ],
   "source": [
    "print('Conjunto de Treino!!!')\n",
    "print( 'MSE:', MSE( y_true=y_train, y_predict=y_pred_train ) )\n",
    "print( 'R2:', R2( y_true=y_train, y_predict=y_pred_train ) )"
   ]
  },
  {
   "cell_type": "code",
   "execution_count": 13,
   "metadata": {},
   "outputs": [
    {
     "name": "stdout",
     "output_type": "stream",
     "text": [
      "Conjunto de Teste!!!\n",
      "MSE: 51.90140276254093\n",
      "R2: 0.5348957403921226\n"
     ]
    }
   ],
   "source": [
    "print('Conjunto de Teste!!!')\n",
    "print( 'MSE:', MSE( y_true=y_test, y_predict=y_pred_test ) )\n",
    "print( 'R2:', R2( y_true=y_test, y_predict=y_pred_test ) )"
   ]
  },
  {
   "cell_type": "code",
   "execution_count": 14,
   "metadata": {},
   "outputs": [
    {
     "name": "stdout",
     "output_type": "stream",
     "text": [
      "Coeficientes!!!\n",
      "W0:  33.59263054628933\n",
      "W1:  -0.8920455980169228\n"
     ]
    }
   ],
   "source": [
    "print('Coeficientes!!!')\n",
    "print('W0: ',regA.weight0)\n",
    "print('W1: ',regA.weight1)"
   ]
  },
  {
   "cell_type": "code",
   "execution_count": 15,
   "metadata": {},
   "outputs": [
    {
     "data": {
      "image/png": "[encoded data removed]",
      "text/plain": [
       "<Figure size 720x360 with 1 Axes>"
      ]
     },
     "metadata": {
      "needs_background": "light"
     },
     "output_type": "display_data"
    }
   ],
   "source": [
    "plt.figure(figsize=(10, 5))\n",
    "\n",
    "plt.scatter(x_test, y_test)\n",
    "plt.xlabel('x')\n",
    "plt.ylabel('y')\n",
    "plt.grid()\n",
    "plt.plot(x_test, y_pred_test, c='r', label='Método Analítico', linewidth=2)\n",
    "plt.legend()\n",
    "plt.show()"
   ]
  },
  {
   "cell_type": "markdown",
   "metadata": {},
   "source": [
    "#### Regressão Linear Univariada com Gradiente Descendente"
   ]
  },
  {
   "cell_type": "code",
   "execution_count": 16,
   "metadata": {},
   "outputs": [],
   "source": [
    "regB = RegLinearUnivariadaGD()"
   ]
  },
  {
   "cell_type": "code",
   "execution_count": 17,
   "metadata": {},
   "outputs": [],
   "source": [
    "regB.fit( x=x_train, y=y_train, alpha=0.0001, ephocs=1000 )"
   ]
  },
  {
   "cell_type": "code",
   "execution_count": 18,
   "metadata": {},
   "outputs": [],
   "source": [
    "y_pred_train = regB.predict( x=x_train )\n",
    "y_pred_test = regB.predict( x=x_test )"
   ]
  },
  {
   "cell_type": "code",
   "execution_count": 19,
   "metadata": {},
   "outputs": [
    {
     "name": "stdout",
     "output_type": "stream",
     "text": [
      "Conjunto de Treino!!!\n",
      "MSE: 300.12432922223894\n",
      "R2: -2.93624532092624\n"
     ]
    }
   ],
   "source": [
    "print('Conjunto de Treino!!!')\n",
    "print( 'MSE:', MSE( y_true=y_train, y_predict=y_pred_train ) )\n",
    "print( 'R2:', R2( y_true=y_train, y_predict=y_pred_train ) )"
   ]
  },
  {
   "cell_type": "code",
   "execution_count": 20,
   "metadata": {},
   "outputs": [
    {
     "name": "stdout",
     "output_type": "stream",
     "text": [
      "Conjunto de Teste!!!\n",
      "MSE: 441.71000064228315\n",
      "R2: -2.9582976928399756\n"
     ]
    }
   ],
   "source": [
    "print('Conjunto de Teste!!!')\n",
    "print( 'MSE:', MSE( y_true=y_test, y_predict=y_pred_test ) )\n",
    "print( 'R2:', R2( y_true=y_test, y_predict=y_pred_test ) )"
   ]
  },
  {
   "cell_type": "code",
   "execution_count": 21,
   "metadata": {},
   "outputs": [
    {
     "name": "stdout",
     "output_type": "stream",
     "text": [
      "Coeficientes!!!\n",
      "W0:  0.05755428909638653\n",
      "W1:  0.9965975798231057\n"
     ]
    }
   ],
   "source": [
    "print('Coeficientes!!!')\n",
    "print('W0: ',regB.weight0)\n",
    "print('W1: ',regB.weight1)"
   ]
  },
  {
   "cell_type": "code",
   "execution_count": 22,
   "metadata": {},
   "outputs": [
    {
     "data": {
      "image/png": "[encoded data removed]",
      "text/plain": [
       "<Figure size 720x360 with 1 Axes>"
      ]
     },
     "metadata": {
      "needs_background": "light"
     },
     "output_type": "display_data"
    }
   ],
   "source": [
    "plt.figure(figsize=(10, 5))\n",
    "\n",
    "plt.scatter(x_test, y_test)\n",
    "plt.xlabel('x')\n",
    "plt.ylabel('y')\n",
    "plt.grid()\n",
    "plt.plot(x_test, y_pred_test, c='g', label='GD após 1000 épocas e taxa 0.0001', linewidth=2)\n",
    "plt.legend()\n",
    "plt.show()"
   ]
  },
  {
   "cell_type": "markdown",
   "metadata": {},
   "source": [
    "#### Regressão Quadrática"
   ]
  },
  {
   "cell_type": "code",
   "execution_count": 23,
   "metadata": {},
   "outputs": [],
   "source": [
    "regF = RegLinearQuadratica()"
   ]
  },
  {
   "cell_type": "code",
   "execution_count": 24,
   "metadata": {},
   "outputs": [],
   "source": [
    "regF.fit( x=x_train, y=y_train )"
   ]
  },
  {
   "cell_type": "code",
   "execution_count": 25,
   "metadata": {},
   "outputs": [],
   "source": [
    "y_pred_train = regF.predict( x=x_train )\n",
    "y_pred_test = regF.predict( x=x_test )"
   ]
  },
  {
   "cell_type": "code",
   "execution_count": 26,
   "metadata": {},
   "outputs": [
    {
     "name": "stdout",
     "output_type": "stream",
     "text": [
      "Conjunto de Treino!!!\n",
      "MSE: 28.190964763941444\n",
      "R2: 0.6302647191847901\n"
     ]
    }
   ],
   "source": [
    "print('Conjunto de Treino!!!')\n",
    "print( 'MSE:', MSE( y_true=y_train, y_predict=y_pred_train ) )\n",
    "print( 'R2:', R2( y_true=y_train, y_predict=y_pred_train ) )"
   ]
  },
  {
   "cell_type": "code",
   "execution_count": 27,
   "metadata": {},
   "outputs": [
    {
     "name": "stdout",
     "output_type": "stream",
     "text": [
      "Conjunto de Teste!!!\n",
      "MSE: 39.537840484020684\n",
      "R2: 0.6456893832147645\n"
     ]
    }
   ],
   "source": [
    "print('Conjunto de Teste!!!')\n",
    "print( 'MSE:', MSE( y_true=y_test, y_predict=y_pred_test ) )\n",
    "print( 'R2:', R2( y_true=y_test, y_predict=y_pred_test ) )"
   ]
  },
  {
   "cell_type": "code",
   "execution_count": 28,
   "metadata": {},
   "outputs": [
    {
     "name": "stdout",
     "output_type": "stream",
     "text": [
      "Coeficientes!!!\n",
      "W0:  [41.69411126]\n",
      "W1:  [-2.2136614]\n",
      "W2:  [0.04117397]\n"
     ]
    }
   ],
   "source": [
    "print('Coeficientes!!!')\n",
    "print('W0: ',regF.weigths[0])\n",
    "print('W1: ',regF.weigths[1])\n",
    "print('W2: ',regF.weigths[2])"
   ]
  },
  {
   "cell_type": "code",
   "execution_count": 29,
   "metadata": {},
   "outputs": [
    {
     "data": {
      "image/png": "[encoded data removed]",
      "text/plain": [
       "<Figure size 720x360 with 1 Axes>"
      ]
     },
     "metadata": {
      "needs_background": "light"
     },
     "output_type": "display_data"
    }
   ],
   "source": [
    "aux = pd.DataFrame( data = np.concatenate([x_test,y_test], axis=1)).sort_values(by=[0])\n",
    "x_test_ord = aux.iloc[:,[0]].values\n",
    "y_test_ord = aux.iloc[:,[1]].values\n",
    "\n",
    "y_pred_ord = regF.predict(x=x_test_ord)\n",
    "\n",
    "plt.figure(figsize=(10, 5))\n",
    "\n",
    "plt.scatter(x_test_ord, y_test_ord)\n",
    "plt.xlabel('x')\n",
    "plt.ylabel('y')\n",
    "plt.grid()\n",
    "plt.plot(x_test_ord, y_pred_ord, c='b', label='Quadrática', linewidth=2)\n",
    "plt.legend()\n",
    "plt.show()"
   ]
  },
  {
   "cell_type": "markdown",
   "metadata": {},
   "source": [
    "#### Regressão Cúbica"
   ]
  },
  {
   "cell_type": "code",
   "execution_count": 30,
   "metadata": {},
   "outputs": [],
   "source": [
    "regG = RegLinearCubica()"
   ]
  },
  {
   "cell_type": "code",
   "execution_count": 31,
   "metadata": {},
   "outputs": [],
   "source": [
    "regG.fit( x=x_train, y=y_train )"
   ]
  },
  {
   "cell_type": "code",
   "execution_count": 32,
   "metadata": {},
   "outputs": [],
   "source": [
    "y_pred_train = regG.predict( x=x_train )\n",
    "y_pred_test = regG.predict( x=x_test )"
   ]
  },
  {
   "cell_type": "code",
   "execution_count": 33,
   "metadata": {},
   "outputs": [
    {
     "name": "stdout",
     "output_type": "stream",
     "text": [
      "Conjunto de Treino!!!\n",
      "MSE: 26.916703461940653\n",
      "R2: 0.6469771433345959\n"
     ]
    }
   ],
   "source": [
    "print('Conjunto de Treino!!!')\n",
    "print( 'MSE:', MSE( y_true=y_train, y_predict=y_pred_train ) )\n",
    "print( 'R2:', R2( y_true=y_train, y_predict=y_pred_train ) )"
   ]
  },
  {
   "cell_type": "code",
   "execution_count": 34,
   "metadata": {},
   "outputs": [
    {
     "name": "stdout",
     "output_type": "stream",
     "text": [
      "Conjunto de Teste!!!\n",
      "MSE: 37.1873365522604\n",
      "R2: 0.6667529640179369\n"
     ]
    }
   ],
   "source": [
    "print('Conjunto de Teste!!!')\n",
    "print( 'MSE:', MSE( y_true=y_test, y_predict=y_pred_test ) )\n",
    "print( 'R2:', R2( y_true=y_test, y_predict=y_pred_test ) )"
   ]
  },
  {
   "cell_type": "code",
   "execution_count": 35,
   "metadata": {},
   "outputs": [
    {
     "name": "stdout",
     "output_type": "stream",
     "text": [
      "Coeficientes!!!\n",
      "W0:  [47.38005941]\n",
      "W1:  [-3.67281755]\n",
      "W2:  [0.13914879]\n"
     ]
    }
   ],
   "source": [
    "print('Coeficientes!!!')\n",
    "print('W0: ',regG.weigths[0])\n",
    "print('W1: ',regG.weigths[1])\n",
    "print('W2: ',regG.weigths[2])"
   ]
  },
  {
   "cell_type": "code",
   "execution_count": 36,
   "metadata": {},
   "outputs": [
    {
     "data": {
      "image/png": "[encoded data removed]",
      "text/plain": [
       "<Figure size 720x360 with 1 Axes>"
      ]
     },
     "metadata": {
      "needs_background": "light"
     },
     "output_type": "display_data"
    }
   ],
   "source": [
    "aux = pd.DataFrame( data = np.concatenate([x_test,y_test], axis=1)).sort_values(by=[0])\n",
    "x_test_ord = aux.iloc[:,[0]].values\n",
    "y_test_ord = aux.iloc[:,[1]].values\n",
    "\n",
    "y_pred_ord = regG.predict(x=x_test_ord)\n",
    "\n",
    "plt.figure(figsize=(10, 5))\n",
    "\n",
    "plt.scatter(x_test_ord, y_test_ord)\n",
    "plt.xlabel('x')\n",
    "plt.ylabel('y')\n",
    "plt.grid()\n",
    "plt.plot(x_test_ord, y_pred_ord, c='b', label='Cúbica', linewidth=2)\n",
    "plt.legend()\n",
    "plt.show()"
   ]
  },
  {
   "cell_type": "markdown",
   "metadata": {},
   "source": [
    "A regressão cúbica obteve resultados melhores!!! O motivo é que o polinômio de grau 3 aprendido por essa regressão condiz melhor com a distribuição dos nossos dados de teste no plano."
   ]
  },
  {
   "cell_type": "markdown",
   "metadata": {},
   "source": [
    "## Questão 07"
   ]
  },
  {
   "cell_type": "markdown",
   "metadata": {},
   "source": [
    "#### Leitura do segundo conjunto de dados!!!"
   ]
  },
  {
   "cell_type": "code",
   "execution_count": 37,
   "metadata": {},
   "outputs": [],
   "source": [
    "data2 = pd.read_csv('./data/trab1_data.txt', sep=\" \", header=None)"
   ]
  },
  {
   "cell_type": "code",
   "execution_count": 38,
   "metadata": {},
   "outputs": [
    {
     "data": {
      "text/html": [
       "<div>\n",
       "<style scoped>\n",
       "    .dataframe tbody tr th:only-of-type {\n",
       "        vertical-align: middle;\n",
       "    }\n",
       "\n",
       "    .dataframe tbody tr th {\n",
       "        vertical-align: top;\n",
       "    }\n",
       "\n",
       "    .dataframe thead th {\n",
       "        text-align: right;\n",
       "    }\n",
       "</style>\n",
       "<table border=\"1\" class=\"dataframe\">\n",
       "  <thead>\n",
       "    <tr style=\"text-align: right;\">\n",
       "      <th></th>\n",
       "      <th>0</th>\n",
       "      <th>1</th>\n",
       "      <th>2</th>\n",
       "      <th>3</th>\n",
       "      <th>4</th>\n",
       "      <th>5</th>\n",
       "    </tr>\n",
       "  </thead>\n",
       "  <tbody>\n",
       "    <tr>\n",
       "      <th>0</th>\n",
       "      <td>2.104</td>\n",
       "      <td>3</td>\n",
       "      <td>1.214590</td>\n",
       "      <td>1.645454</td>\n",
       "      <td>2.040360</td>\n",
       "      <td>3.999</td>\n",
       "    </tr>\n",
       "    <tr>\n",
       "      <th>1</th>\n",
       "      <td>1.600</td>\n",
       "      <td>3</td>\n",
       "      <td>0.804845</td>\n",
       "      <td>1.156956</td>\n",
       "      <td>1.043933</td>\n",
       "      <td>3.299</td>\n",
       "    </tr>\n",
       "    <tr>\n",
       "      <th>2</th>\n",
       "      <td>2.400</td>\n",
       "      <td>3</td>\n",
       "      <td>1.526176</td>\n",
       "      <td>1.990969</td>\n",
       "      <td>2.735965</td>\n",
       "      <td>3.690</td>\n",
       "    </tr>\n",
       "    <tr>\n",
       "      <th>3</th>\n",
       "      <td>1.416</td>\n",
       "      <td>2</td>\n",
       "      <td>1.017324</td>\n",
       "      <td>1.048135</td>\n",
       "      <td>0.873698</td>\n",
       "      <td>2.320</td>\n",
       "    </tr>\n",
       "    <tr>\n",
       "      <th>4</th>\n",
       "      <td>3.000</td>\n",
       "      <td>4</td>\n",
       "      <td>1.352385</td>\n",
       "      <td>2.118710</td>\n",
       "      <td>2.403007</td>\n",
       "      <td>5.399</td>\n",
       "    </tr>\n",
       "  </tbody>\n",
       "</table>\n",
       "</div>"
      ],
      "text/plain": [
       "       0  1         2         3         4      5\n",
       "0  2.104  3  1.214590  1.645454  2.040360  3.999\n",
       "1  1.600  3  0.804845  1.156956  1.043933  3.299\n",
       "2  2.400  3  1.526176  1.990969  2.735965  3.690\n",
       "3  1.416  2  1.017324  1.048135  0.873698  2.320\n",
       "4  3.000  4  1.352385  2.118710  2.403007  5.399"
      ]
     },
     "execution_count": 38,
     "metadata": {},
     "output_type": "execute_result"
    }
   ],
   "source": [
    "data2.head()"
   ]
  },
  {
   "cell_type": "markdown",
   "metadata": {},
   "source": [
    "#### Separando os dados em treino e teste"
   ]
  },
  {
   "cell_type": "code",
   "execution_count": 39,
   "metadata": {},
   "outputs": [],
   "source": [
    "x = data2.iloc[:,:-1].values\n",
    "y = data2.iloc[:,-1].values.reshape(-1,1)"
   ]
  },
  {
   "cell_type": "code",
   "execution_count": 40,
   "metadata": {},
   "outputs": [],
   "source": [
    "from sklearn.model_selection import train_test_split\n",
    "\n",
    "x_train, x_test, y_train, y_test = train_test_split(x,y,test_size=0.2,random_state=4)"
   ]
  },
  {
   "cell_type": "code",
   "execution_count": 41,
   "metadata": {},
   "outputs": [
    {
     "name": "stdout",
     "output_type": "stream",
     "text": [
      "Treino shape :  (37, 5)\n",
      "Teste shape :  (10, 5)\n"
     ]
    }
   ],
   "source": [
    "print('Treino shape : ',x_train.shape)\n",
    "print('Teste shape : ',x_test.shape)"
   ]
  },
  {
   "cell_type": "markdown",
   "metadata": {},
   "source": [
    "## Questão 08"
   ]
  },
  {
   "cell_type": "markdown",
   "metadata": {},
   "source": [
    "#### Regressão Linear Multivariada com Método Analítico"
   ]
  },
  {
   "cell_type": "code",
   "execution_count": 42,
   "metadata": {},
   "outputs": [],
   "source": [
    "regC = RegLinearMultivariadaMA()"
   ]
  },
  {
   "cell_type": "code",
   "execution_count": 43,
   "metadata": {},
   "outputs": [],
   "source": [
    "regC.fit( x=x_train, y=y_train )"
   ]
  },
  {
   "cell_type": "code",
   "execution_count": 44,
   "metadata": {},
   "outputs": [],
   "source": [
    "y_pred_train = regC.predict( x=x_train )\n",
    "y_pred_test = regC.predict( x=x_test )"
   ]
  },
  {
   "cell_type": "code",
   "execution_count": 45,
   "metadata": {},
   "outputs": [
    {
     "name": "stdout",
     "output_type": "stream",
     "text": [
      "Conjunto de Treino!!!\n",
      "MSE: 0.4122361403175551\n",
      "R2: 0.7293400627471571\n"
     ]
    }
   ],
   "source": [
    "print('Conjunto de Treino!!!')\n",
    "print( 'MSE:', MSE( y_true=y_train, y_predict=y_pred_train ) )\n",
    "print( 'R2:', R2( y_true=y_train, y_predict=y_pred_train ) )"
   ]
  },
  {
   "cell_type": "code",
   "execution_count": 46,
   "metadata": {},
   "outputs": [
    {
     "name": "stdout",
     "output_type": "stream",
     "text": [
      "Conjunto de Teste!!!\n",
      "MSE: 0.3326698183711289\n",
      "R2: 0.7628238087797834\n"
     ]
    }
   ],
   "source": [
    "print('Conjunto de Teste!!!')\n",
    "print( 'MSE:', MSE( y_true=y_test, y_predict=y_pred_test ) )\n",
    "print( 'R2:', R2( y_true=y_test, y_predict=y_pred_test ) )"
   ]
  },
  {
   "cell_type": "code",
   "execution_count": 47,
   "metadata": {},
   "outputs": [
    {
     "name": "stdout",
     "output_type": "stream",
     "text": [
      "Coeficientes!!!\n",
      "W 0  :  [1.32076939]\n",
      "W 1  :  [1.79492744]\n",
      "W 2  :  [-0.16621463]\n",
      "W 3  :  [-0.92091273]\n",
      "W 4  :  [-0.05693023]\n",
      "W 5  :  [0.07022502]\n"
     ]
    }
   ],
   "source": [
    "print('Coeficientes!!!')\n",
    "for w in range(len(regC.weigts)):\n",
    "    print('W',w,' : ',regC.weigts[w])"
   ]
  },
  {
   "cell_type": "markdown",
   "metadata": {},
   "source": [
    "#### Regressão Linear Multivariada com Gradiente Descendente"
   ]
  },
  {
   "cell_type": "code",
   "execution_count": 82,
   "metadata": {},
   "outputs": [],
   "source": [
    "regD = RegLinearMultivariadaGD()"
   ]
  },
  {
   "cell_type": "code",
   "execution_count": 83,
   "metadata": {},
   "outputs": [],
   "source": [
    "regD.fit( x=x_train, y=y_train, alpha=0.0001, ephocs=1000 )"
   ]
  },
  {
   "cell_type": "code",
   "execution_count": 84,
   "metadata": {},
   "outputs": [],
   "source": [
    "y_pred_train = regD.predict( x=x_train)\n",
    "y_pred_test = regD.predict( x=x_test )"
   ]
  },
  {
   "cell_type": "code",
   "execution_count": 85,
   "metadata": {},
   "outputs": [
    {
     "name": "stdout",
     "output_type": "stream",
     "text": [
      "Conjunto de Treino!!!\n",
      "MSE: 0.9303933833152779\n",
      "R2: 0.38913600696292605\n"
     ]
    }
   ],
   "source": [
    "print('Conjunto de Treino!!!')\n",
    "print( 'MSE:', MSE( y_true=y_train, y_predict=y_pred_train ) )\n",
    "print( 'R2:', R2( y_true=y_train, y_predict=y_pred_train ) )"
   ]
  },
  {
   "cell_type": "code",
   "execution_count": 86,
   "metadata": {},
   "outputs": [
    {
     "name": "stdout",
     "output_type": "stream",
     "text": [
      "Conjunto de Teste!!!\n",
      "MSE: 0.8266928058378384\n",
      "R2: 0.4106112422286734\n"
     ]
    }
   ],
   "source": [
    "print('Conjunto de Teste!!!')\n",
    "print( 'MSE:', MSE( y_true=y_test, y_predict=y_pred_test ) )\n",
    "print( 'R2:', R2( y_true=y_test, y_predict=y_pred_test ) )"
   ]
  },
  {
   "cell_type": "code",
   "execution_count": 87,
   "metadata": {},
   "outputs": [
    {
     "name": "stdout",
     "output_type": "stream",
     "text": [
      "Coeficientes!!!\n",
      "W 0  :  [0.14003053]\n",
      "W 1  :  [0.31802056]\n",
      "W 2  :  [0.43787231]\n",
      "W 3  :  [0.16982116]\n",
      "W 4  :  [0.19545061]\n",
      "W 5  :  [0.23588664]\n"
     ]
    }
   ],
   "source": [
    "print('Coeficientes!!!')\n",
    "for w in range(len(regD.weights)):\n",
    "    print('W',w,' : ',regD.weights[w])"
   ]
  },
  {
   "cell_type": "markdown",
   "metadata": {},
   "source": [
    "#### Regressão Linear Multivariada com Gradiente Descendente Estocástico"
   ]
  },
  {
   "cell_type": "code",
   "execution_count": 54,
   "metadata": {},
   "outputs": [],
   "source": [
    "regE = RegLinearMultivariadaSGD()"
   ]
  },
  {
   "cell_type": "code",
   "execution_count": 55,
   "metadata": {},
   "outputs": [],
   "source": [
    "regE.fit( x=x_train, y=y_train, alpha=0.0001, ephocs=1000 )"
   ]
  },
  {
   "cell_type": "code",
   "execution_count": 56,
   "metadata": {},
   "outputs": [],
   "source": [
    "y_pred_train = regE.predict( x=x_train )\n",
    "y_pred_test = regE.predict( x=x_test )"
   ]
  },
  {
   "cell_type": "code",
   "execution_count": 57,
   "metadata": {},
   "outputs": [
    {
     "name": "stdout",
     "output_type": "stream",
     "text": [
      "Conjunto de Treino!!!\n",
      "MSE: 1.1272816052442667\n",
      "R2: 0.2598660362318942\n"
     ]
    }
   ],
   "source": [
    "print('Conjunto de Treino!!!')\n",
    "print( 'MSE:', MSE( y_true=y_train, y_predict=y_pred_train ) )\n",
    "print( 'R2:', R2( y_true=y_train, y_predict=y_pred_train ) )"
   ]
  },
  {
   "cell_type": "code",
   "execution_count": 58,
   "metadata": {},
   "outputs": [
    {
     "name": "stdout",
     "output_type": "stream",
     "text": [
      "Conjunto de Teste!!!\n",
      "MSE: 0.8797938521069806\n",
      "R2: 0.3727529719305446\n"
     ]
    }
   ],
   "source": [
    "print('Conjunto de Teste!!!')\n",
    "print( 'MSE:', MSE( y_true=y_test, y_predict=y_pred_test ) )\n",
    "print( 'R2:', R2( y_true=y_test, y_predict=y_pred_test ) )"
   ]
  },
  {
   "cell_type": "code",
   "execution_count": 59,
   "metadata": {},
   "outputs": [
    {
     "name": "stdout",
     "output_type": "stream",
     "text": [
      "Coeficientes!!!\n",
      "W 0  :  [0.73611048]\n",
      "W 1  :  [0.00739009]\n",
      "W 2  :  [0.63642066]\n",
      "W 3  :  [0.26260133]\n",
      "W 4  :  [0.05593372]\n",
      "W 5  :  [0.06817817]\n"
     ]
    }
   ],
   "source": [
    "print('Coeficientes!!!')\n",
    "for w in range(len(regE.weights)):\n",
    "    print('W',w,' : ',regE.weights[w])"
   ]
  },
  {
   "cell_type": "code",
   "execution_count": 60,
   "metadata": {},
   "outputs": [
    {
     "data": {
      "image/png": "[encoded data removed]",
      "text/plain": [
       "<Figure size 720x360 with 1 Axes>"
      ]
     },
     "metadata": {
      "needs_background": "light"
     },
     "output_type": "display_data"
    }
   ],
   "source": [
    "plt.figure(figsize=(10, 5))\n",
    "plt.plot( range(1,1001), regE.history, label='SGD', c='g')\n",
    "plt.plot( range(1,1001), regD.history, label='GD', c='y')\n",
    "plt.grid()\n",
    "plt.xlabel('época')\n",
    "plt.ylabel('MSE')\n",
    "\n",
    "plt.title(\"Comparação da convergência entre o SGD e o GD\")\n",
    "\n",
    "plt.legend()\n",
    "\n",
    "plt.show()"
   ]
  },
  {
   "cell_type": "markdown",
   "metadata": {},
   "source": [
    "O método com SGD acabou convergindo mais rápido do que o método com GD (precisou de menos épocas para chegar a um MSE menor do que 2 se comparado com o outro método)."
   ]
  },
  {
   "cell_type": "markdown",
   "metadata": {},
   "source": [
    "#### Regressão Linear Regularizada Multivariada com Gradiente Descendente"
   ]
  },
  {
   "cell_type": "code",
   "execution_count": 61,
   "metadata": {},
   "outputs": [],
   "source": [
    "regH = RegLinearRegularizadoMultivariadaGD()"
   ]
  },
  {
   "cell_type": "code",
   "execution_count": 62,
   "metadata": {},
   "outputs": [],
   "source": [
    "regH.fit( x=x_train, y=y_train, alpha=0.01, ephocs=1000, lambd=1)"
   ]
  },
  {
   "cell_type": "code",
   "execution_count": 63,
   "metadata": {},
   "outputs": [],
   "source": [
    "y_pred_train = regH.predict( x=x_train)\n",
    "y_pred_test = regH.predict( x=x_test )"
   ]
  },
  {
   "cell_type": "code",
   "execution_count": 64,
   "metadata": {},
   "outputs": [
    {
     "name": "stdout",
     "output_type": "stream",
     "text": [
      "Conjunto de Treino!!!\n",
      "MSE: 0.45397549011704985\n",
      "R2: 0.701935454822672\n"
     ]
    }
   ],
   "source": [
    "print('Conjunto de Treino!!!')\n",
    "print( 'MSE:', MSE( y_true=y_train, y_predict=y_pred_train ) )\n",
    "print( 'R2:', R2( y_true=y_train, y_predict=y_pred_train ) )"
   ]
  },
  {
   "cell_type": "code",
   "execution_count": 65,
   "metadata": {},
   "outputs": [
    {
     "name": "stdout",
     "output_type": "stream",
     "text": [
      "Conjunto de Teste!!!\n",
      "MSE: 0.41292217720860896\n",
      "R2: 0.7056080718707105\n"
     ]
    }
   ],
   "source": [
    "print('Conjunto de Teste!!!')\n",
    "print( 'MSE:', MSE( y_true=y_test, y_predict=y_pred_test ) )\n",
    "print( 'R2:', R2( y_true=y_test, y_predict=y_pred_test ) )"
   ]
  },
  {
   "cell_type": "code",
   "execution_count": 66,
   "metadata": {},
   "outputs": [
    {
     "name": "stdout",
     "output_type": "stream",
     "text": [
      "Coeficientes!!!\n",
      "W 0 : [0.34838125]\n",
      "W 1 : [1.01019281]\n",
      "W 2 : [0.04407033]\n",
      "W 3 : [0.40549868]\n",
      "W 4 : [0.00951631]\n",
      "W 5 : [0.2680611]\n"
     ]
    }
   ],
   "source": [
    "print('Coeficientes!!!')\n",
    "for w in range(len(regH.weights)):\n",
    "    print('W',w,':',regH.weights[w])"
   ]
  },
  {
   "cell_type": "code",
   "execution_count": 67,
   "metadata": {},
   "outputs": [],
   "source": [
    "MSEs_train = []\n",
    "MSEs_test = []\n",
    "\n",
    "for lambd in range(1,10):\n",
    "    \n",
    "    regH.fit( x=x_train, y=y_train, alpha=0.01, ephocs=1000, lambd=lambd)\n",
    "    \n",
    "    y_pred_train = regH.predict( x=x_train )\n",
    "    MSEs_train.append( MSE(y_true=y_train, y_predict=y_pred_train) )\n",
    "    \n",
    "    y_pred_test = regH.predict( x=x_test )\n",
    "    MSEs_test.append( MSE(y_true=y_test, y_predict=y_pred_test) )"
   ]
  },
  {
   "cell_type": "code",
   "execution_count": 68,
   "metadata": {},
   "outputs": [
    {
     "data": {
      "image/png": "[encoded data removed]",
      "text/plain": [
       "<Figure size 720x360 with 1 Axes>"
      ]
     },
     "metadata": {
      "needs_background": "light"
     },
     "output_type": "display_data"
    }
   ],
   "source": [
    "plt.figure(figsize=(10, 5))\n",
    "plt.plot( range(1,10), MSEs_train, label='treino', c='g')\n",
    "plt.plot( range(1,10), MSEs_test, label='teste', c='r' )\n",
    "plt.grid()\n",
    "plt.xlabel('valor de $\\lambda$')\n",
    "plt.ylabel('MSE')\n",
    "\n",
    "plt.legend()\n",
    "\n",
    "plt.show()"
   ]
  },
  {
   "cell_type": "markdown",
   "metadata": {},
   "source": [
    "O valor de $\\lambda$ mais adequado seria 1. Quanto maior o valor de $\\lambda$ maior o MSE nesse caso. Também é interessante comentar que a regularização melhorou o desempenho do modelo no conjunto de teste, lidando melhor com o overfitting, ou seja, a regularização cumpriu bem seu objetivo."
   ]
  },
  {
   "cell_type": "code",
   "execution_count": 89,
   "metadata": {},
   "outputs": [
    {
     "data": {
      "text/plain": [
       "499"
      ]
     },
     "execution_count": 89,
     "metadata": {},
     "output_type": "execute_result"
    }
   ],
   "source": [
    "np.sum(data2.iloc[:,1]*data2.iloc[:,1])"
   ]
  },
  {
   "cell_type": "code",
   "execution_count": 79,
   "metadata": {},
   "outputs": [],
   "source": [
    "data2[:]"
   ]
  },
  {
   "cell_type": "code",
   "execution_count": 80,
   "metadata": {},
   "outputs": [
    {
     "data": {
      "text/plain": [
       "array([3, 3, 3, 2, 4, 4, 3, 3, 3, 3, 4, 3, 3, 5, 3, 4, 2, 3, 4, 4, 3, 2,\n",
       "       3, 4, 3, 3, 3, 3, 3, 3, 2, 1, 4, 3, 4, 3, 3, 4, 4, 4, 2, 3, 4, 3,\n",
       "       2, 4, 3])"
      ]
     },
     "execution_count": 80,
     "metadata": {},
     "output_type": "execute_result"
    }
   ],
   "source": [
    "a"
   ]
  },
  {
   "cell_type": "code",
   "execution_count": 81,
   "metadata": {},
   "outputs": [
    {
     "ename": "NameError",
     "evalue": "name 'i' is not defined",
     "output_type": "error",
     "traceback": [
      "\u001b[0;31m---------------------------------------------------------------------------\u001b[0m",
      "\u001b[0;31mNameError\u001b[0m                                 Traceback (most recent call last)",
      "\u001b[0;32m<ipython-input-81-33ebf712a1cb>\u001b[0m in \u001b[0;36m<module>\u001b[0;34m\u001b[0m\n\u001b[0;32m----> 1\u001b[0;31m \u001b[0ma\u001b[0m\u001b[0;34m[\u001b[0m\u001b[0mi\u001b[0m\u001b[0;34m]\u001b[0m\u001b[0;34m\u001b[0m\u001b[0;34m\u001b[0m\u001b[0m\n\u001b[0m",
      "\u001b[0;31mNameError\u001b[0m: name 'i' is not defined"
     ]
    }
   ],
   "source": [
    "a[i]"
   ]
  },
  {
   "cell_type": "code",
   "execution_count": null,
   "metadata": {},
   "outputs": [],
   "source": []
  }
 ],
 "metadata": {
  "kernelspec": {
   "display_name": "Python 3",
   "language": "python",
   "name": "python3"
  },
  "language_info": {
   "codemirror_mode": {
    "name": "ipython",
    "version": 3
   },
   "file_extension": ".py",
   "mimetype": "text/x-python",
   "name": "python",
   "nbconvert_exporter": "python",
   "pygments_lexer": "ipython3",
   "version": "3.7.6"
  }
 },
 "nbformat": 4,
 "nbformat_minor": 4
}
